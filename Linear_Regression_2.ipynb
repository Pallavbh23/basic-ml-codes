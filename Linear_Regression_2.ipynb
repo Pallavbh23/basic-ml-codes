{
 "cells": [
  {
   "cell_type": "code",
   "execution_count": 12,
   "metadata": {},
   "outputs": [],
   "source": [
    "import numpy as np\n",
    "data = np.loadtxt(\"data.csv\", delimiter = \",\")\n",
    "x = data[:,0]\n",
    "y = data[:,1]\n",
    "#Not using reshape with x and y because internal function requires 2D array but we can change our function to work for 1D array"
   ]
  },
  {
   "cell_type": "code",
   "execution_count": 1,
   "metadata": {},
   "outputs": [],
   "source": [
    "def fit(x,y):\n",
    "    m = ( (x*y).mean() - x.mean()* y.mean() ) / ( (x*x).mean() - x.mean() * x.mean() )\n",
    "    c = y.mean() - m * x.mean()\n",
    "    return m,c\n",
    "def predict(x,m,c):\n",
    "    return m*x + c\n",
    "def cd(ypred, ytrue):\n",
    "    u = ((ytrue - ypred) ** 2).sum()\n",
    "    v = ((ytrue - ytrue.mean())**2).sum()\n",
    "    return 1 - u/v\n",
    "def cost(x,y,m,c):\n",
    "    return (((y - m*c + c))**2).sum()"
   ]
  },
  {
   "cell_type": "code",
   "execution_count": 20,
   "metadata": {},
   "outputs": [
    {
     "name": "stdout",
     "output_type": "stream",
     "text": [
      "m and c for the algorithm is: 1.3606239126800237 6.019403436814969\n",
      "Testing data for x is: [50.13548549 46.73761941 36.43600951 41.18201611 49.23976534 44.55560838\n",
      " 55.80573336 47.47563963 56.72720806 45.61864377 31.588117   32.94047994\n",
      " 35.56783005 55.0780959  60.29732685 57.5045333  59.04974121 52.22399609\n",
      " 46.68222865 37.67565486 52.37844622 40.59953838 33.09383174 68.31936082\n",
      " 38.11982403 54.28232871 57.31000344 51.08863468 41.10268519 49.20388754] and predictions are: [74.23494386 69.61172603 55.59510926 62.05263932 73.01620562 66.64282965\n",
      " 81.95001871 70.61589399 83.20379922 68.08922102 48.99895078 50.83900814\n",
      " 54.41384352 80.95997779 88.06138822 84.26144654 86.36389337 77.07662133\n",
      " 69.53636003 57.28180037 77.28676987 61.26010621 51.04766226 98.97635947\n",
      " 57.88614755 79.87723791 83.99676455 75.53182145 61.94469978 72.96738942]\n",
      "Actual values were: [59.10883927 79.05240617 62.12457082 61.68403752 72.11183247 52.68298337\n",
      " 79.55043668 71.54663223 81.43619216 48.84715332 50.39267014 67.17065577\n",
      " 41.4128853  71.13972786 97.37989686 91.486778   77.63418251 63.35879032\n",
      " 72.24725107 60.81024665 86.09829121 65.56230126 50.71958891 97.91982104\n",
      " 80.16627545 79.12064627 95.45505292 73.43464155 59.35885025 84.74269781] and the score is: 0.5733954138340694\n",
      "cost is: 525404.2063714492\n"
     ]
    }
   ],
   "source": [
    "from sklearn import model_selection\n",
    "x_train, x_test, y_train, y_test = model_selection.train_test_split(x,y, test_size = 0.3)\n",
    "m,c = fit(x_train,y_train)\n",
    "y_pred = predict(x_test,m,c)\n",
    "score = cd(y_pred, y_test)\n",
    "cost = cost(x, y, m, c)\n",
    "print(\"m and c for the algorithm is:\", m, c)\n",
    "print(\"Testing data for x is:\", x_test, \"and predictions are:\", y_pred)\n",
    "print(\"Actual values were:\", y_test, \"and the score is:\", score)\n",
    "print(\"cost is:\" , cost)"
   ]
  },
  {
   "cell_type": "code",
   "execution_count": 23,
   "metadata": {},
   "outputs": [
    {
     "name": "stdout",
     "output_type": "stream",
     "text": [
      "Training score: 0.6036696317602769\n"
     ]
    }
   ],
   "source": [
    "y_train_pred = predict(x_train,m,c)\n",
    "s = cd(y_train_pred, y_train)\n",
    "print(\"Training score:\", s)"
   ]
  }
 ],
 "metadata": {
  "kernelspec": {
   "display_name": "Python 3",
   "language": "python",
   "name": "python3"
  },
  "language_info": {
   "codemirror_mode": {
    "name": "ipython",
    "version": 3
   },
   "file_extension": ".py",
   "mimetype": "text/x-python",
   "name": "python",
   "nbconvert_exporter": "python",
   "pygments_lexer": "ipython3",
   "version": "3.7.0"
  }
 },
 "nbformat": 4,
 "nbformat_minor": 2
}
